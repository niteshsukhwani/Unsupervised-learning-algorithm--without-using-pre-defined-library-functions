{
 "cells": [
  {
   "cell_type": "markdown",
   "metadata": {},
   "source": [
    "# K -Means "
   ]
  },
  {
   "cell_type": "code",
   "execution_count": 1,
   "metadata": {},
   "outputs": [],
   "source": [
    "#Importing the rquired Library\n",
    "\n",
    "import random as rn\n",
    "import numpy as np\n",
    "import pandas as pd\n",
    "from matplotlib.pyplot import scatter"
   ]
  },
  {
   "cell_type": "code",
   "execution_count": 2,
   "metadata": {},
   "outputs": [],
   "source": [
    "# creating virtual Instances of data with 2 attributes for clustering\n",
    "\n",
    "data = []\n",
    "for i in range(200):\n",
    "    x = list(np.random.randint(0,1000,2))\n",
    "    data.append(x)"
   ]
  },
  {
   "cell_type": "code",
   "execution_count": 3,
   "metadata": {},
   "outputs": [],
   "source": [
    "'''Finding bettr initial seeds for avoiding outliers\n",
    "data = the whole data\n",
    "K = number of seeds wanted\n",
    "lst = a list of list conating k intial seed\n",
    "'''\n",
    "\n",
    "def initialK(data,K):\n",
    "    lst = []\n",
    "    a = np.random.randint(0,len(data))\n",
    "    lst.append(data[a])\n",
    "    dis = np.zeros(len(data))\n",
    "    for j in range(K-1):\n",
    "        for i in range(len(data)):\n",
    "            dis[i]+= distance(lst[len(lst)-1],data[i])\n",
    "        a = np.argmax(dis)\n",
    "        lst.append(data[a])\n",
    "    return lst"
   ]
  },
  {
   "cell_type": "code",
   "execution_count": 4,
   "metadata": {},
   "outputs": [],
   "source": [
    "'''Finding Ecludian distance between two data points\n",
    "x = first data point\n",
    "y = second data point\n",
    "d = Ecludian distance between x and y'''\n",
    "\n",
    "def distance(x,y):\n",
    "    d = 0\n",
    "    for i in range(len(x)):\n",
    "        d += (x[i] - y[i])**2\n",
    "    d = np.sqrt(d)\n",
    "    return d"
   ]
  },
  {
   "cell_type": "code",
   "execution_count": 5,
   "metadata": {},
   "outputs": [],
   "source": [
    "'''calculate centroid of clustered points\n",
    "X = data points in the cluster\n",
    "c = indecies of the point that are in cluster X\n",
    "s = cenroid of the cluster'''\n",
    "\n",
    "def cal_mean(X,c):\n",
    "    n = len(c)\n",
    "    s = [0]*len(X[0])\n",
    "    for i in range(n):\n",
    "        for j in range(len(X[0])):\n",
    "            s[j]+=X[c[i]][j]\n",
    "    for j in range(len(X[0])):\n",
    "        s[j]/=n\n",
    "    return s"
   ]
  },
  {
   "cell_type": "code",
   "execution_count": 6,
   "metadata": {},
   "outputs": [],
   "source": [
    "'''Finding clusters in data\n",
    "X = Entire data set\n",
    "k = no. of clusters\n",
    "maxiter= no of Iteration to be performed to converge\n",
    "cluster = index of each clusters'''\n",
    "\n",
    "def kmeans(X,k,maxiter=100):      \n",
    "    lst = initialK(X,k)\n",
    "    for lp in range(maxiter):\n",
    "        cluster = []  \n",
    "        for i in range(k):\n",
    "            cluster.append([])\n",
    "        for i in range(len(X)):\n",
    "            min_idx = 0\n",
    "            min_dis=999999\n",
    "            for j in range(k):\n",
    "                d = distance(lst[j],X[i])\n",
    "                if d<min_dis:\n",
    "                    min_idx = j\n",
    "                    min_dis = d\n",
    "            cluster[min_idx].append(i)\n",
    "        for i in range(k):\n",
    "            if(len(cluster[i])!=0):\n",
    "                lst[i] = cal_mean(X,cluster[i])\n",
    "    return cluster\n",
    "    "
   ]
  },
  {
   "cell_type": "code",
   "execution_count": 7,
   "metadata": {},
   "outputs": [],
   "source": [
    "'''Finding the clusters'''\n",
    "\n",
    "res = kmeans(data,6,maxiter=10)"
   ]
  },
  {
   "cell_type": "markdown",
   "metadata": {},
   "source": [
    "# plotting the clusters"
   ]
  },
  {
   "cell_type": "code",
   "execution_count": 8,
   "metadata": {},
   "outputs": [
    {
     "data": {
      "image/png": "[encoded data removed]",
      "text/plain": [
       "<Figure size 432x288 with 1 Axes>"
      ]
     },
     "metadata": {
      "needs_background": "light"
     },
     "output_type": "display_data"
    }
   ],
   "source": [
    "import matplotlib.pyplot as plt\n",
    "color = ['b','g','r','y','c','k','m']\n",
    "fig = plt.figure()\n",
    "ax  = fig.add_subplot(111)\n",
    "for i in range(len(res)):\n",
    "    lst = []\n",
    "    col = color[i]\n",
    "    for j in range(len(res[i])):\n",
    "        lst.append(data[res[i][j]])\n",
    "    lst = pd.DataFrame(lst)\n",
    "    ax.scatter(lst[0],lst[1],c=col)\n",
    "plt.show()"
   ]
  }
 ],
 "metadata": {
  "kernelspec": {
   "display_name": "Python 3",
   "language": "python",
   "name": "python3"
  },
  "language_info": {
   "codemirror_mode": {
    "name": "ipython",
    "version": 3
   },
   "file_extension": ".py",
   "mimetype": "text/x-python",
   "name": "python",
   "nbconvert_exporter": "python",
   "pygments_lexer": "ipython3",
   "version": "3.6.8"
  }
 },
 "nbformat": 4,
 "nbformat_minor": 2
}
