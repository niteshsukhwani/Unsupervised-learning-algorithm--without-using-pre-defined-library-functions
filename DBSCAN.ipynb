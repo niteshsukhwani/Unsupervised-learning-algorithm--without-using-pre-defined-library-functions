{
 "cells": [
  {
   "cell_type": "code",
   "execution_count": 120,
   "metadata": {},
   "outputs": [],
   "source": [
    "import numpy as np\n",
    "import pandas as pd\n",
    "from matplotlib.pyplot import scatter\n",
    "from sklearn.metrics.pairwise import euclidean_distances\n",
    "import matplotlib.pyplot as plt\n",
    "import collections "
   ]
  },
  {
   "cell_type": "code",
   "execution_count": 121,
   "metadata": {},
   "outputs": [],
   "source": [
    "'''\n",
    "gives distance of a point from origin\n",
    "'''\n",
    "\n",
    "def dis(x):\n",
    "    return x[0]**2+x[1]**2"
   ]
  },
  {
   "cell_type": "code",
   "execution_count": 146,
   "metadata": {},
   "outputs": [
    {
     "name": "stdout",
     "output_type": "stream",
     "text": [
      "dimension of data=  (346, 2)\n"
     ]
    }
   ],
   "source": [
    "'''\n",
    "Creating vitual instance of data for DBSCAN clustering \n",
    "'''\n",
    "data = []\n",
    "for i in range(500):\n",
    "    x = (np.random.randint(-10,10,2))\n",
    "    if dis(x)<25 or dis(x)>64:\n",
    "        data.append(x)\n",
    "x = np.random.randint(15,16,2)\n",
    "data.append(x)\n",
    "data = pd.DataFrame(data)\n",
    "print('dimension of data= ',data.shape)"
   ]
  },
  {
   "cell_type": "code",
   "execution_count": 147,
   "metadata": {},
   "outputs": [
    {
     "name": "stdout",
     "output_type": "stream",
     "text": [
      "Visualization of data\n"
     ]
    },
    {
     "data": {
      "text/plain": [
       "<matplotlib.collections.PathCollection at 0x7f380fe0c390>"
      ]
     },
     "execution_count": 147,
     "metadata": {},
     "output_type": "execute_result"
    },
    {
     "data": {
      "image/png": "[encoded data removed]",
      "text/plain": [
       "<Figure size 432x288 with 1 Axes>"
      ]
     },
     "metadata": {
      "needs_background": "light"
     },
     "output_type": "display_data"
    }
   ],
   "source": [
    "'''\n",
    "visualising the data\n",
    "'''\n",
    "print('Visualization of data')\n",
    "scatter(data[0],data[1])"
   ]
  },
  {
   "cell_type": "code",
   "execution_count": 148,
   "metadata": {},
   "outputs": [],
   "source": [
    "'''\n",
    "Making data suitable for modeling\n",
    "'''\n",
    "data = data.values"
   ]
  },
  {
   "cell_type": "code",
   "execution_count": 149,
   "metadata": {},
   "outputs": [],
   "source": [
    "'''\n",
    "gives Euclidian distance between two points\n",
    "x = first point\n",
    "y = second point\n",
    "'''\n",
    "\n",
    "def distance(x,y):\n",
    "    return (np.sqrt(np.sum((x-y)**2)))"
   ]
  },
  {
   "cell_type": "code",
   "execution_count": 141,
   "metadata": {},
   "outputs": [],
   "source": [
    "'''\n",
    "for a given point i cluster all the point in range epsilon\n",
    "i = data point\n",
    "data = data for clustering\n",
    "epsilon = distance under which we have to locate the points\n",
    "minpts = minimum number of point for a poit to become core point\n",
    "cluster = cluster \n",
    "candidate = candidate set\n",
    "'''\n",
    "\n",
    "def expand(i,data,epsilon,minpts,cluster,candidate=None):\n",
    "    k = max(cluster)\n",
    "    k = k+1\n",
    "    if candidate==None:\n",
    "        candidate =[i]\n",
    "    \n",
    "    for seed in candidate:\n",
    "        #print(seed)\n",
    "        for j in range(len(data)):\n",
    "            if cluster[j]<=0:\n",
    "                d = distance(data[seed],data[j])\n",
    "                if d < epsilon:\n",
    "                    candidate.append(j)\n",
    "\n",
    "        if len(candidate)<minpts and cluster[j]==0:\n",
    "            cluster[j]=-1\n",
    "            return cluster\n",
    "        for point in candidate:\n",
    "            cluster[point] = k\n",
    "    return cluster"
   ]
  },
  {
   "cell_type": "code",
   "execution_count": 150,
   "metadata": {},
   "outputs": [],
   "source": [
    "'''\n",
    "perform DBSCAN on the data\n",
    "data = data for clustering\n",
    "epsilon = distance under which we have to locate the points\n",
    "minpts = minimum number of point for a poit to become core point\n",
    "'''\n",
    "\n",
    "def DBSCAN(data,epsilon,minpts):\n",
    "    n = len(data)\n",
    "    cluster = np.zeros(n)\n",
    "    for i in range(len(data)):\n",
    "        if cluster[i]==0:\n",
    "            cluster = expand(i,data,epsilon,minpts,cluster)\n",
    "    return cluster"
   ]
  },
  {
   "cell_type": "code",
   "execution_count": 151,
   "metadata": {},
   "outputs": [
    {
     "name": "stdout",
     "output_type": "stream",
     "text": [
      "cluster = Counter({1.0: 279, 2.0: 66, -1.0: 1})\n"
     ]
    }
   ],
   "source": [
    "'''\n",
    "making cluster of data\n",
    "'''\n",
    "cluster = DBSCAN(data,3,5)\n",
    "print('cluster =',collections.Counter(cluster))"
   ]
  },
  {
   "cell_type": "markdown",
   "metadata": {},
   "source": [
    "# Applying KMedoids on Virtual data with dimension 2 (for visualisation purpose)"
   ]
  },
  {
   "cell_type": "code",
   "execution_count": 145,
   "metadata": {},
   "outputs": [
    {
     "data": {
      "image/png": "[encoded data removed]",
      "text/plain": [
       "<Figure size 432x288 with 1 Axes>"
      ]
     },
     "metadata": {
      "needs_background": "light"
     },
     "output_type": "display_data"
    }
   ],
   "source": [
    "color = ['b','g','r','y','c','k','m']\n",
    "fig = plt.figure()\n",
    "lst1 = np.unique(cluster)\n",
    "ax  = fig.add_subplot(111)\n",
    "for i in range(len(lst1)):\n",
    "    lst = []\n",
    "    col = color[i]\n",
    "    for j in range(len(data)):\n",
    "        if cluster[j]==lst1[i]:\n",
    "            lst.append(data[j])\n",
    "    lst = pd.DataFrame(lst)\n",
    "    ax.scatter(lst[0],lst[1],c=col)\n",
    "    #break\n",
    "plt.show()"
   ]
  }
 ],
 "metadata": {
  "kernelspec": {
   "display_name": "Python 3",
   "language": "python",
   "name": "python3"
  },
  "language_info": {
   "codemirror_mode": {
    "name": "ipython",
    "version": 3
   },
   "file_extension": ".py",
   "mimetype": "text/x-python",
   "name": "python",
   "nbconvert_exporter": "python",
   "pygments_lexer": "ipython3",
   "version": "3.6.8"
  }
 },
 "nbformat": 4,
 "nbformat_minor": 2
}
