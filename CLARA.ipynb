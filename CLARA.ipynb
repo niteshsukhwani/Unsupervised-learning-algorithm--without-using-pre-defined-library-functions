{
 "cells": [
  {
   "cell_type": "markdown",
   "metadata": {},
   "source": [
    "## CLARA"
   ]
  },
  {
   "cell_type": "code",
   "execution_count": 1,
   "metadata": {},
   "outputs": [],
   "source": [
    "#Importing the required Libraries\n",
    "\n",
    "import pandas as pd\n",
    "import numpy as np\n",
    "from sklearn.metrics.pairwise import euclidean_distances\n",
    "import random\n",
    "from matplotlib.pyplot import scatter\n",
    "import collections\n",
    "import matplotlib.pyplot as plt"
   ]
  },
  {
   "cell_type": "code",
   "execution_count": 3,
   "metadata": {},
   "outputs": [
    {
     "name": "stdout",
     "output_type": "stream",
     "text": [
      "shape of data =  (648, 13)\n"
     ]
    },
    {
     "data": {
      "text/html": [
       "<div>\n",
       "<style scoped>\n",
       "    .dataframe tbody tr th:only-of-type {\n",
       "        vertical-align: middle;\n",
       "    }\n",
       "\n",
       "    .dataframe tbody tr th {\n",
       "        vertical-align: top;\n",
       "    }\n",
       "\n",
       "    .dataframe thead th {\n",
       "        text-align: right;\n",
       "    }\n",
       "</style>\n",
       "<table border=\"1\" class=\"dataframe\">\n",
       "  <thead>\n",
       "    <tr style=\"text-align: right;\">\n",
       "      <th></th>\n",
       "      <th>b3001</th>\n",
       "      <th>b3002</th>\n",
       "      <th>b3003</th>\n",
       "      <th>b3004</th>\n",
       "      <th>b3005</th>\n",
       "      <th>b3006</th>\n",
       "      <th>b3007</th>\n",
       "      <th>b3008</th>\n",
       "      <th>b3009</th>\n",
       "      <th>b3010</th>\n",
       "      <th>b3011</th>\n",
       "      <th>b3012</th>\n",
       "      <th>b3013</th>\n",
       "    </tr>\n",
       "  </thead>\n",
       "  <tbody>\n",
       "    <tr>\n",
       "      <th>0</th>\n",
       "      <td>-200</td>\n",
       "      <td>-200</td>\n",
       "      <td>-200</td>\n",
       "      <td>-200</td>\n",
       "      <td>-200</td>\n",
       "      <td>-78</td>\n",
       "      <td>-200</td>\n",
       "      <td>-200</td>\n",
       "      <td>-200</td>\n",
       "      <td>-200</td>\n",
       "      <td>-200</td>\n",
       "      <td>-200</td>\n",
       "      <td>-200</td>\n",
       "    </tr>\n",
       "    <tr>\n",
       "      <th>2</th>\n",
       "      <td>-200</td>\n",
       "      <td>-200</td>\n",
       "      <td>-200</td>\n",
       "      <td>-200</td>\n",
       "      <td>-200</td>\n",
       "      <td>-77</td>\n",
       "      <td>-200</td>\n",
       "      <td>-200</td>\n",
       "      <td>-200</td>\n",
       "      <td>-200</td>\n",
       "      <td>-200</td>\n",
       "      <td>-200</td>\n",
       "      <td>-200</td>\n",
       "    </tr>\n",
       "    <tr>\n",
       "      <th>5</th>\n",
       "      <td>-200</td>\n",
       "      <td>-200</td>\n",
       "      <td>-82</td>\n",
       "      <td>-200</td>\n",
       "      <td>-200</td>\n",
       "      <td>-200</td>\n",
       "      <td>-200</td>\n",
       "      <td>-200</td>\n",
       "      <td>-200</td>\n",
       "      <td>-200</td>\n",
       "      <td>-200</td>\n",
       "      <td>-200</td>\n",
       "      <td>-200</td>\n",
       "    </tr>\n",
       "    <tr>\n",
       "      <th>6</th>\n",
       "      <td>-200</td>\n",
       "      <td>-200</td>\n",
       "      <td>-80</td>\n",
       "      <td>-200</td>\n",
       "      <td>-200</td>\n",
       "      <td>-77</td>\n",
       "      <td>-200</td>\n",
       "      <td>-200</td>\n",
       "      <td>-200</td>\n",
       "      <td>-200</td>\n",
       "      <td>-200</td>\n",
       "      <td>-200</td>\n",
       "      <td>-200</td>\n",
       "    </tr>\n",
       "    <tr>\n",
       "      <th>7</th>\n",
       "      <td>-200</td>\n",
       "      <td>-200</td>\n",
       "      <td>-86</td>\n",
       "      <td>-200</td>\n",
       "      <td>-200</td>\n",
       "      <td>-200</td>\n",
       "      <td>-200</td>\n",
       "      <td>-200</td>\n",
       "      <td>-200</td>\n",
       "      <td>-200</td>\n",
       "      <td>-200</td>\n",
       "      <td>-200</td>\n",
       "      <td>-200</td>\n",
       "    </tr>\n",
       "  </tbody>\n",
       "</table>\n",
       "</div>"
      ],
      "text/plain": [
       "   b3001  b3002  b3003  b3004  b3005  b3006  b3007  b3008  b3009  b3010  \\\n",
       "0   -200   -200   -200   -200   -200    -78   -200   -200   -200   -200   \n",
       "2   -200   -200   -200   -200   -200    -77   -200   -200   -200   -200   \n",
       "5   -200   -200    -82   -200   -200   -200   -200   -200   -200   -200   \n",
       "6   -200   -200    -80   -200   -200    -77   -200   -200   -200   -200   \n",
       "7   -200   -200    -86   -200   -200   -200   -200   -200   -200   -200   \n",
       "\n",
       "   b3011  b3012  b3013  \n",
       "0   -200   -200   -200  \n",
       "2   -200   -200   -200  \n",
       "5   -200   -200   -200  \n",
       "6   -200   -200   -200  \n",
       "7   -200   -200   -200  "
      ]
     },
     "execution_count": 3,
     "metadata": {},
     "output_type": "execute_result"
    }
   ],
   "source": [
    "'''\n",
    "Loading the dataset \n",
    "making it suitable for clustering\n",
    "'''\n",
    "df = pd.read_csv('iBeacon_RSSI_Labeled.csv')\n",
    "df.drop(['location','date'],axis=1,inplace=True)\n",
    "df.drop_duplicates(inplace=True)\n",
    "print('shape of data = ',df.shape)\n",
    "df.head()"
   ]
  },
  {
   "cell_type": "code",
   "execution_count": 4,
   "metadata": {},
   "outputs": [],
   "source": [
    "'''\n",
    "Select the initial seeds for clustering based on distance\n",
    "data = dataset in the form of Array\n",
    "k = number of cluster needed\n",
    "lst = list containing index of initial seeds\n",
    "mat = distance matrix\n",
    "'''\n",
    "\n",
    "def initial_k(data,k):\n",
    "    mat = euclidean_distances(data)\n",
    "    lst = []\n",
    "    a = np.random.randint(0,len(mat))\n",
    "    lst.append(a)\n",
    "    dis = np.zeros(len(data))\n",
    "    for j in range(k-1):\n",
    "        for i in range(len(data)):\n",
    "            dis+= mat[:,a]\n",
    "        a = np.argmax(dis)\n",
    "        lst.append(a)\n",
    "    return lst,mat"
   ]
  },
  {
   "cell_type": "code",
   "execution_count": 5,
   "metadata": {},
   "outputs": [],
   "source": [
    "'''\n",
    "Make cluster based on the nearest distance from seeds\n",
    "mat = distance matrix\n",
    "ini = list containing index of seeds\n",
    "cluster = an array represing ith index as the cluster number of that index data point\n",
    "cost = total sum of intra class ecludian distance of data\n",
    "'''\n",
    "\n",
    "def make_cluster(mat,ini):\n",
    "    cost = 0\n",
    "    cluster = np.zeros(len(mat))\n",
    "    for i in range(len(mat)):\n",
    "        minimum = np.inf \n",
    "        for j in range(len(ini)):\n",
    "            if mat[i,ini[j]]<minimum:\n",
    "                cluster[i] = j+1\n",
    "                minimum = mat[i,ini[j]]\n",
    "        cost+=minimum\n",
    "    return cluster,cost"
   ]
  },
  {
   "cell_type": "code",
   "execution_count": 6,
   "metadata": {},
   "outputs": [],
   "source": [
    "'''\n",
    "Update cluster seeds to get saturated cluster on subset of data\n",
    "data = data = dataset in the form of Array\n",
    "k = number of cluster needed\n",
    "max_iter = Maximum number of iteration \n",
    "ini = list containing index of seeds\n",
    "'''\n",
    "\n",
    "def PAM(data,k,max_iter=50):\n",
    "    #data = df.values\n",
    "    ini,mat = initial_k(data,k)\n",
    "    cluster,cost = make_cluster(mat,ini)\n",
    "    for i in range(max_iter):\n",
    "        swap = random.randint(0,len(data)-1)\n",
    "        if swap in ini:\n",
    "            continue\n",
    "        else:\n",
    "            for j in range(k):\n",
    "                tmp = ini[j]\n",
    "                ini[j]=swap\n",
    "                cluster1,cost1=make_cluster(mat,ini)\n",
    "                if cost > cost1:\n",
    "                    cluster = cluster1\n",
    "                    cost = cost1\n",
    "                    continue\n",
    "                else:\n",
    "                    ini[j] = tmp\n",
    "    return ini"
   ]
  },
  {
   "cell_type": "code",
   "execution_count": 26,
   "metadata": {},
   "outputs": [],
   "source": [
    "'''\n",
    "applying PAM on subset of Data and get the best cluster\n",
    "df = data on which clustering need to applied\n",
    "k = number of cluster \n",
    "sample_size = size of subset of data\n",
    "iteration = number of time suset of data has to taken\n",
    "cluster = an array represing ith index as the cluster number of that index data point\n",
    "cost = total sum of intra class ecludian distance of data\n",
    "'''\n",
    "\n",
    "def clara(df, k,sample_size=100,iteration=10):\n",
    "    data = df.values\n",
    "    cost = np.inf\n",
    "    cluster = np.zeros(len(df))\n",
    "    mat = euclidean_distances(data)\n",
    "    for i in range(iteration):\n",
    "        subset = df.sample(n=sample_size,replace=True)\n",
    "        subset = subset.values\n",
    "        seeds = PAM(subset,k)\n",
    "        cluster1, cost1 = make_cluster(mat,seeds)\n",
    "        if cost1<cost:\n",
    "            cost = cost1\n",
    "            cluster = cluster1\n",
    "    return cost,cluster"
   ]
  },
  {
   "cell_type": "code",
   "execution_count": 43,
   "metadata": {},
   "outputs": [
    {
     "data": {
      "text/plain": [
       "(92000.06109814173,\n",
       " array([1., 1., 3., 1., 1., 3., 1., 4., 3., 5., 1., 4., 4., 2., 5., 2., 4.,\n",
       "        3., 1., 2., 1., 2., 4., 5., 4., 2., 1., 4., 1., 3., 3., 3., 4., 3.,\n",
       "        5., 4., 1., 2., 3., 4., 2., 3., 4., 3., 3., 1., 3., 4., 4., 4., 3.,\n",
       "        1., 3., 4., 4., 2., 2., 5., 3., 1., 4., 2., 3., 3., 3., 2., 2., 3.,\n",
       "        5., 4., 5., 1., 5., 3., 5., 1., 4., 1., 4., 4., 3., 1., 1., 4., 3.,\n",
       "        1., 3., 1., 1., 3., 1., 4., 1., 1., 1., 1., 5., 3., 3., 4., 1., 4.,\n",
       "        1., 2., 1., 1., 4., 1., 1., 3., 3., 1., 1., 1., 3., 1., 3., 5., 1.,\n",
       "        3., 1., 3., 4., 5., 5., 3., 1., 4., 3., 1., 4., 5., 2., 3., 1., 1.,\n",
       "        3., 3., 1., 3., 3., 2., 1., 3., 4., 3., 1., 4., 2., 4., 1., 4., 4.,\n",
       "        1., 1., 4., 3., 4., 1., 3., 2., 4., 3., 4., 3., 4., 1., 3., 3., 3.,\n",
       "        4., 1., 2., 5., 1., 3., 4., 4., 4., 5., 1., 3., 1., 2., 4., 5., 5.,\n",
       "        2., 1., 2., 3., 1., 3., 1., 2., 4., 1., 1., 5., 1., 3., 5., 4., 3.,\n",
       "        3., 4., 3., 3., 4., 2., 5., 1., 4., 3., 2., 2., 3., 5., 4., 5., 5.,\n",
       "        1., 1., 4., 1., 1., 5., 4., 3., 2., 1., 2., 1., 3., 3., 3., 1., 4.,\n",
       "        4., 3., 3., 1., 2., 3., 1., 2., 3., 3., 1., 1., 3., 4., 3., 4., 2.,\n",
       "        4., 4., 3., 4., 4., 1., 1., 1., 3., 3., 1., 4., 2., 3., 4., 4., 2.,\n",
       "        5., 5., 3., 1., 4., 2., 1., 5., 4., 2., 5., 1., 4., 2., 5., 3., 1.,\n",
       "        4., 3., 1., 4., 3., 4., 2., 1., 1., 4., 2., 3., 3., 1., 2., 1., 2.,\n",
       "        5., 3., 1., 1., 5., 1., 1., 1., 3., 3., 4., 1., 3., 1., 1., 3., 5.,\n",
       "        4., 5., 1., 3., 3., 3., 3., 4., 1., 1., 2., 4., 5., 5., 4., 3., 3.,\n",
       "        2., 2., 1., 4., 1., 3., 5., 4., 4., 5., 4., 2., 4., 3., 3., 5., 5.,\n",
       "        3., 1., 1., 5., 4., 1., 5., 4., 4., 2., 5., 1., 2., 1., 4., 1., 4.,\n",
       "        3., 1., 1., 4., 1., 5., 4., 1., 3., 1., 2., 4., 1., 4., 1., 4., 2.,\n",
       "        3., 4., 4., 5., 1., 2., 1., 3., 3., 1., 5., 5., 4., 4., 4., 1., 5.,\n",
       "        3., 3., 1., 4., 3., 2., 2., 1., 2., 5., 4., 5., 4., 5., 3., 3., 3.,\n",
       "        3., 1., 5., 4., 1., 3., 4., 1., 1., 5., 4., 5., 4., 1., 3., 1., 5.,\n",
       "        1., 1., 1., 2., 4., 3., 1., 1., 4., 4., 3., 2., 4., 4., 3., 4., 2.,\n",
       "        4., 3., 1., 2., 4., 5., 1., 3., 4., 4., 1., 1., 4., 1., 4., 1., 1.,\n",
       "        3., 4., 3., 4., 4., 3., 2., 4., 2., 1., 4., 3., 3., 4., 1., 3., 1.,\n",
       "        1., 3., 1., 5., 4., 1., 2.]))"
      ]
     },
     "execution_count": 43,
     "metadata": {},
     "output_type": "execute_result"
    }
   ],
   "source": [
    "clara(df,5,100,50)"
   ]
  },
  {
   "cell_type": "markdown",
   "metadata": {},
   "source": [
    "### Applying KMedoids on Virtual data with dimension 2 (for visualisation purpose)"
   ]
  },
  {
   "cell_type": "code",
   "execution_count": 44,
   "metadata": {},
   "outputs": [
    {
     "data": {
      "text/html": [
       "<div>\n",
       "<style scoped>\n",
       "    .dataframe tbody tr th:only-of-type {\n",
       "        vertical-align: middle;\n",
       "    }\n",
       "\n",
       "    .dataframe tbody tr th {\n",
       "        vertical-align: top;\n",
       "    }\n",
       "\n",
       "    .dataframe thead th {\n",
       "        text-align: right;\n",
       "    }\n",
       "</style>\n",
       "<table border=\"1\" class=\"dataframe\">\n",
       "  <thead>\n",
       "    <tr style=\"text-align: right;\">\n",
       "      <th></th>\n",
       "      <th>0</th>\n",
       "      <th>1</th>\n",
       "    </tr>\n",
       "  </thead>\n",
       "  <tbody>\n",
       "    <tr>\n",
       "      <th>0</th>\n",
       "      <td>964</td>\n",
       "      <td>922</td>\n",
       "    </tr>\n",
       "    <tr>\n",
       "      <th>1</th>\n",
       "      <td>307</td>\n",
       "      <td>294</td>\n",
       "    </tr>\n",
       "    <tr>\n",
       "      <th>2</th>\n",
       "      <td>169</td>\n",
       "      <td>353</td>\n",
       "    </tr>\n",
       "    <tr>\n",
       "      <th>3</th>\n",
       "      <td>337</td>\n",
       "      <td>549</td>\n",
       "    </tr>\n",
       "    <tr>\n",
       "      <th>4</th>\n",
       "      <td>429</td>\n",
       "      <td>842</td>\n",
       "    </tr>\n",
       "  </tbody>\n",
       "</table>\n",
       "</div>"
      ],
      "text/plain": [
       "     0    1\n",
       "0  964  922\n",
       "1  307  294\n",
       "2  169  353\n",
       "3  337  549\n",
       "4  429  842"
      ]
     },
     "execution_count": 44,
     "metadata": {},
     "output_type": "execute_result"
    }
   ],
   "source": [
    "# creating virtual Instances of data with 2 attributes for clustering\n",
    "data = []\n",
    "for i in range(500):\n",
    "    x = (np.random.randint(0,1000,2))\n",
    "    data.append(x)\n",
    "df = pd.DataFrame(data)\n",
    "df.head()"
   ]
  },
  {
   "cell_type": "code",
   "execution_count": 45,
   "metadata": {},
   "outputs": [
    {
     "name": "stdout",
     "output_type": "stream",
     "text": [
      "113839.22957365107\n"
     ]
    }
   ],
   "source": [
    "cost,cluster = clara(df,5,100,5)\n",
    "print(cost)"
   ]
  },
  {
   "cell_type": "code",
   "execution_count": 46,
   "metadata": {},
   "outputs": [
    {
     "data": {
      "image/png": "[encoded data removed]",
      "text/plain": [
       "<Figure size 432x288 with 1 Axes>"
      ]
     },
     "metadata": {
      "needs_background": "light"
     },
     "output_type": "display_data"
    }
   ],
   "source": [
    "color = ['b','g','r','y','c','k','m']\n",
    "fig = plt.figure()\n",
    "ax  = fig.add_subplot(111)\n",
    "for i in range(1,6):\n",
    "    lst = []\n",
    "    col = color[i]\n",
    "    for j in range(len(data)):\n",
    "        if cluster[j]==i:\n",
    "            lst.append(data[j])\n",
    "    lst = pd.DataFrame(lst)\n",
    "    ax.scatter(lst[0],lst[1],c=col)\n",
    "plt.show()"
   ]
  },
  {
   "cell_type": "code",
   "execution_count": null,
   "metadata": {},
   "outputs": [],
   "source": []
  }
 ],
 "metadata": {
  "kernelspec": {
   "display_name": "Python 3",
   "language": "python",
   "name": "python3"
  },
  "language_info": {
   "codemirror_mode": {
    "name": "ipython",
    "version": 3
   },
   "file_extension": ".py",
   "mimetype": "text/x-python",
   "name": "python",
   "nbconvert_exporter": "python",
   "pygments_lexer": "ipython3",
   "version": "3.6.8"
  }
 },
 "nbformat": 4,
 "nbformat_minor": 2
}
