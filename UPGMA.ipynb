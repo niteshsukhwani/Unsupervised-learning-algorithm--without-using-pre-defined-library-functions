{
 "cells": [
  {
   "cell_type": "markdown",
   "metadata": {},
   "source": [
    "## Hierarchical Clustering (UPGMA - unweighted pair group method with arithmetic mean)"
   ]
  },
  {
   "cell_type": "code",
   "execution_count": 1,
   "metadata": {},
   "outputs": [],
   "source": [
    "#Importing the required Libraries\n",
    "\n",
    "import pandas as pd\n",
    "import numpy as np\n",
    "from sklearn.metrics.pairwise import euclidean_distances\n",
    "import random\n",
    "from matplotlib.pyplot import scatter\n",
    "import collections\n",
    "import matplotlib.pyplot as plt"
   ]
  },
  {
   "cell_type": "code",
   "execution_count": 12,
   "metadata": {},
   "outputs": [],
   "source": [
    "'''\n",
    "Given a matrix x return the index where the minimum value lies\n",
    "'''\n",
    "\n",
    "def find_min_idx(x):\n",
    "    k = x.argmin()\n",
    "    ncol = x.shape[1]\n",
    "    return k//ncol, k%ncol"
   ]
  },
  {
   "cell_type": "code",
   "execution_count": 55,
   "metadata": {},
   "outputs": [],
   "source": [
    "'''\n",
    "Update distance matrix based on new cluster found\n",
    "mat = distance matrix\n",
    "row = first cluster index\n",
    "col = second cluster index\n",
    "'''\n",
    "\n",
    "def update_mat(mat,row,col):\n",
    "    mat[row,col]=np.inf\n",
    "    mat[col,row]=np.inf\n",
    "    for i in range(len(mat)):\n",
    "        x = (mat[row,i]+mat[col,i])/2\n",
    "        mat[row,i],mat[col,i],mat[i,row],mat[i,col]=x,x,x,x\n",
    "    return mat"
   ]
  },
  {
   "cell_type": "code",
   "execution_count": 99,
   "metadata": {},
   "outputs": [],
   "source": [
    "'''\n",
    "cluster = cluster matrix\n",
    "i = cluster at ith level\n",
    "row, col = merging two clusters\n",
    "'''\n",
    "\n",
    "def update_cluster(cluster,i,row,col):\n",
    "    c1 = cluster[i,row]\n",
    "    c2 = cluster[i,col]\n",
    "    x = min(c1,c2)\n",
    "    for j in range(len(cluster)):\n",
    "        if cluster[i,j]==c1 or cluster[i,j]==c2:\n",
    "            cluster[i,j]=x\n",
    "    return cluster\n",
    "        "
   ]
  },
  {
   "cell_type": "code",
   "execution_count": 144,
   "metadata": {},
   "outputs": [],
   "source": [
    "'''\n",
    "UPGMA (unweighted pair group method with arithmetic mean) algorithm\n",
    "data = data whose cluster has to find\n",
    "cluster =  a matrix of size n*n where ith row is ith cut on dendogram\n",
    "n = size of data\n",
    "'''\n",
    "\n",
    "def UPGMA(data):\n",
    "    mat = euclidean_distances(data)\n",
    "    n = len(mat)\n",
    "    cluster = np.zeros((n,n))\n",
    "    for j in range(n):\n",
    "        cluster[n-1,j]=j\n",
    "        mat[j,j]=np.inf\n",
    "    row,col = find_min_idx(mat)\n",
    "    for i in range(n-2,-1,-1):\n",
    "        mat = update_mat(mat,row,col)\n",
    "        #print(row,col)\n",
    "        cluster[i]=cluster[i+1]\n",
    "        cluster = update_cluster(cluster,i,row,col)\n",
    "        row,col = find_min_idx(mat)\n",
    "    return cluster"
   ]
  },
  {
   "cell_type": "markdown",
   "metadata": {},
   "source": [
    "### Creating Virtual instances of data for better visualization"
   ]
  },
  {
   "cell_type": "code",
   "execution_count": 145,
   "metadata": {},
   "outputs": [
    {
     "data": {
      "text/plain": [
       "array([[1. , 1. ],\n",
       "       [1.5, 1.5],\n",
       "       [5. , 5. ],\n",
       "       [3. , 4. ],\n",
       "       [4. , 4. ],\n",
       "       [3. , 3.5]])"
      ]
     },
     "execution_count": 145,
     "metadata": {},
     "output_type": "execute_result"
    }
   ],
   "source": [
    "'''\n",
    "Creating virtual data\n",
    "'''\n",
    "data = np.array([[1,1],[1.5,1.5],[5,5],[3,4],[4,4],[3,3.5]])\n",
    "data"
   ]
  },
  {
   "cell_type": "code",
   "execution_count": 146,
   "metadata": {},
   "outputs": [
    {
     "data": {
      "text/plain": [
       "array([[0., 0., 0., 0., 0., 0.],\n",
       "       [0., 0., 2., 2., 2., 2.],\n",
       "       [0., 0., 2., 3., 3., 3.],\n",
       "       [0., 0., 2., 3., 4., 3.],\n",
       "       [0., 1., 2., 3., 4., 3.],\n",
       "       [0., 1., 2., 3., 4., 5.]])"
      ]
     },
     "execution_count": 146,
     "metadata": {},
     "output_type": "execute_result"
    }
   ],
   "source": [
    "'''\n",
    "applying UPGMA algorithm on data \n",
    "'''\n",
    "cluster = UPGMA(data)\n",
    "cluster"
   ]
  },
  {
   "cell_type": "code",
   "execution_count": 150,
   "metadata": {},
   "outputs": [],
   "source": [
    "'''\n",
    "plot a graph of where each cluster point is shown with different color\n",
    "cluster = cluster matrix\n",
    "k = number of cluster to plot\n",
    "'''\n",
    "\n",
    "def plot_cluster(cluster,k):\n",
    "    color = ['b','g','r','y','c','k','m']\n",
    "    fig = plt.figure(figsize=(3,2))\n",
    "    ax  = fig.add_subplot(111)\n",
    "    un = np.unique(cluster[k])\n",
    "    for i in un:\n",
    "        lst = []\n",
    "        col = color[int(i)]\n",
    "        for j in range(len(data)):\n",
    "            if cluster[k,j]==i:\n",
    "                lst.append(data[j])\n",
    "        lst = pd.DataFrame(lst)\n",
    "        ax.scatter(lst[0],lst[1],c=col)\n",
    "    plt.show()"
   ]
  },
  {
   "cell_type": "code",
   "execution_count": 151,
   "metadata": {},
   "outputs": [
    {
     "data": {
      "image/png": "[encoded data removed]",
      "text/plain": [
       "<Figure size 216x144 with 1 Axes>"
      ]
     },
     "metadata": {
      "needs_background": "light"
     },
     "output_type": "display_data"
    },
    {
     "data": {
      "image/png": "[encoded data removed]",
      "text/plain": [
       "<Figure size 216x144 with 1 Axes>"
      ]
     },
     "metadata": {
      "needs_background": "light"
     },
     "output_type": "display_data"
    },
    {
     "data": {
      "image/png": "[encoded data removed]",
      "text/plain": [
       "<Figure size 216x144 with 1 Axes>"
      ]
     },
     "metadata": {
      "needs_background": "light"
     },
     "output_type": "display_data"
    },
    {
     "data": {
      "image/png": "[encoded data removed]",
      "text/plain": [
       "<Figure size 216x144 with 1 Axes>"
      ]
     },
     "metadata": {
      "needs_background": "light"
     },
     "output_type": "display_data"
    },
    {
     "data": {
      "image/png": "[encoded data removed]",
      "text/plain": [
       "<Figure size 216x144 with 1 Axes>"
      ]
     },
     "metadata": {
      "needs_background": "light"
     },
     "output_type": "display_data"
    },
    {
     "data": {
      "image/png": "[encoded data removed]",
      "text/plain": [
       "<Figure size 216x144 with 1 Axes>"
      ]
     },
     "metadata": {
      "needs_background": "light"
     },
     "output_type": "display_data"
    }
   ],
   "source": [
    "'''\n",
    "ploting cluster from k= n to k=1\n",
    "'''\n",
    "for k in range(len(data)-1,-1,-1):\n",
    "    plot_cluster(cluster,k)"
   ]
  },
  {
   "cell_type": "code",
   "execution_count": null,
   "metadata": {},
   "outputs": [],
   "source": []
  }
 ],
 "metadata": {
  "kernelspec": {
   "display_name": "Python 3",
   "language": "python",
   "name": "python3"
  },
  "language_info": {
   "codemirror_mode": {
    "name": "ipython",
    "version": 3
   },
   "file_extension": ".py",
   "mimetype": "text/x-python",
   "name": "python",
   "nbconvert_exporter": "python",
   "pygments_lexer": "ipython3",
   "version": "3.6.8"
  }
 },
 "nbformat": 4,
 "nbformat_minor": 2
}
